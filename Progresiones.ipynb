{
 "cells": [
  {
   "cell_type": "markdown",
   "metadata": {},
   "source": [
    "## Funcion exponencial"
   ]
  },
  {
   "cell_type": "markdown",
   "metadata": {},
   "source": [
    "Mientras que el modelo logístico describe un crecimiento de infección que se detendrá en el futuro, el modelo exponencial describe un crecimiento de infección imparable . Por ejemplo, si un paciente infecta a 2 pacientes por día, después de 1 día tendremos 2 infecciones, 4 después de 2 días, 8 después de 3 y así sucesivamente."
   ]
  },
  {
   "cell_type": "code",
   "execution_count": 208,
   "metadata": {},
   "outputs": [],
   "source": [
    "import pandas as pd\n",
    "import numpy as np\n",
    "from datetime import datetime,timedelta\n",
    "from sklearn.metrics import mean_squared_error\n",
    "from scipy.optimize import curve_fit\n",
    "from scipy.optimize import fsolve\n",
    "from sklearn import linear_model\n",
    "import matplotlib.pyplot as plt\n",
    "from sklearn.preprocessing import PolynomialFeatures\n",
    "%matplotlib inline"
   ]
  },
  {
   "cell_type": "code",
   "execution_count": 209,
   "metadata": {},
   "outputs": [
    {
     "data": {
      "text/html": [
       "<div>\n",
       "<style scoped>\n",
       "    .dataframe tbody tr th:only-of-type {\n",
       "        vertical-align: middle;\n",
       "    }\n",
       "\n",
       "    .dataframe tbody tr th {\n",
       "        vertical-align: top;\n",
       "    }\n",
       "\n",
       "    .dataframe thead th {\n",
       "        text-align: right;\n",
       "    }\n",
       "</style>\n",
       "<table border=\"1\" class=\"dataframe\">\n",
       "  <thead>\n",
       "    <tr style=\"text-align: right;\">\n",
       "      <th></th>\n",
       "      <th>date</th>\n",
       "      <th>cases_confirmed</th>\n",
       "    </tr>\n",
       "  </thead>\n",
       "  <tbody>\n",
       "    <tr>\n",
       "      <td>0</td>\n",
       "      <td>2020-01-22</td>\n",
       "      <td>0</td>\n",
       "    </tr>\n",
       "    <tr>\n",
       "      <td>1</td>\n",
       "      <td>2020-01-23</td>\n",
       "      <td>0</td>\n",
       "    </tr>\n",
       "    <tr>\n",
       "      <td>2</td>\n",
       "      <td>2020-01-24</td>\n",
       "      <td>0</td>\n",
       "    </tr>\n",
       "    <tr>\n",
       "      <td>3</td>\n",
       "      <td>2020-01-25</td>\n",
       "      <td>0</td>\n",
       "    </tr>\n",
       "    <tr>\n",
       "      <td>4</td>\n",
       "      <td>2020-01-26</td>\n",
       "      <td>0</td>\n",
       "    </tr>\n",
       "    <tr>\n",
       "      <td>...</td>\n",
       "      <td>...</td>\n",
       "      <td>...</td>\n",
       "    </tr>\n",
       "    <tr>\n",
       "      <td>75</td>\n",
       "      <td>2020-04-06</td>\n",
       "      <td>3747</td>\n",
       "    </tr>\n",
       "    <tr>\n",
       "      <td>76</td>\n",
       "      <td>2020-04-07</td>\n",
       "      <td>3747</td>\n",
       "    </tr>\n",
       "    <tr>\n",
       "      <td>77</td>\n",
       "      <td>2020-04-08</td>\n",
       "      <td>4450</td>\n",
       "    </tr>\n",
       "    <tr>\n",
       "      <td>78</td>\n",
       "      <td>2020-04-09</td>\n",
       "      <td>4965</td>\n",
       "    </tr>\n",
       "    <tr>\n",
       "      <td>79</td>\n",
       "      <td>2020-04-10</td>\n",
       "      <td>7161</td>\n",
       "    </tr>\n",
       "  </tbody>\n",
       "</table>\n",
       "<p>80 rows × 2 columns</p>\n",
       "</div>"
      ],
      "text/plain": [
       "          date  cases_confirmed\n",
       "0   2020-01-22                0\n",
       "1   2020-01-23                0\n",
       "2   2020-01-24                0\n",
       "3   2020-01-25                0\n",
       "4   2020-01-26                0\n",
       "..         ...              ...\n",
       "75  2020-04-06             3747\n",
       "76  2020-04-07             3747\n",
       "77  2020-04-08             4450\n",
       "78  2020-04-09             4965\n",
       "79  2020-04-10             7161\n",
       "\n",
       "[80 rows x 2 columns]"
      ]
     },
     "execution_count": 209,
     "metadata": {},
     "output_type": "execute_result"
    }
   ],
   "source": [
    "# Actualizar los datos (URL)\n",
    "\n",
    "url = 'covid.csv'\n",
    "\n",
    "df = pd.read_csv(url)\n",
    "df\n"
   ]
  },
  {
   "cell_type": "code",
   "execution_count": 210,
   "metadata": {},
   "outputs": [
    {
     "data": {
      "text/html": [
       "<div>\n",
       "<style scoped>\n",
       "    .dataframe tbody tr th:only-of-type {\n",
       "        vertical-align: middle;\n",
       "    }\n",
       "\n",
       "    .dataframe tbody tr th {\n",
       "        vertical-align: top;\n",
       "    }\n",
       "\n",
       "    .dataframe thead th {\n",
       "        text-align: right;\n",
       "    }\n",
       "</style>\n",
       "<table border=\"1\" class=\"dataframe\">\n",
       "  <thead>\n",
       "    <tr style=\"text-align: right;\">\n",
       "      <th></th>\n",
       "      <th>date</th>\n",
       "      <th>cases_confirmed</th>\n",
       "    </tr>\n",
       "  </thead>\n",
       "  <tbody>\n",
       "    <tr>\n",
       "      <td>0</td>\n",
       "      <td>21</td>\n",
       "      <td>0</td>\n",
       "    </tr>\n",
       "    <tr>\n",
       "      <td>1</td>\n",
       "      <td>22</td>\n",
       "      <td>0</td>\n",
       "    </tr>\n",
       "    <tr>\n",
       "      <td>2</td>\n",
       "      <td>23</td>\n",
       "      <td>0</td>\n",
       "    </tr>\n",
       "    <tr>\n",
       "      <td>3</td>\n",
       "      <td>24</td>\n",
       "      <td>0</td>\n",
       "    </tr>\n",
       "    <tr>\n",
       "      <td>4</td>\n",
       "      <td>25</td>\n",
       "      <td>0</td>\n",
       "    </tr>\n",
       "    <tr>\n",
       "      <td>...</td>\n",
       "      <td>...</td>\n",
       "      <td>...</td>\n",
       "    </tr>\n",
       "    <tr>\n",
       "      <td>75</td>\n",
       "      <td>96</td>\n",
       "      <td>3747</td>\n",
       "    </tr>\n",
       "    <tr>\n",
       "      <td>76</td>\n",
       "      <td>97</td>\n",
       "      <td>3747</td>\n",
       "    </tr>\n",
       "    <tr>\n",
       "      <td>77</td>\n",
       "      <td>98</td>\n",
       "      <td>4450</td>\n",
       "    </tr>\n",
       "    <tr>\n",
       "      <td>78</td>\n",
       "      <td>99</td>\n",
       "      <td>4965</td>\n",
       "    </tr>\n",
       "    <tr>\n",
       "      <td>79</td>\n",
       "      <td>100</td>\n",
       "      <td>7161</td>\n",
       "    </tr>\n",
       "  </tbody>\n",
       "</table>\n",
       "<p>80 rows × 2 columns</p>\n",
       "</div>"
      ],
      "text/plain": [
       "    date  cases_confirmed\n",
       "0     21                0\n",
       "1     22                0\n",
       "2     23                0\n",
       "3     24                0\n",
       "4     25                0\n",
       "..   ...              ...\n",
       "75    96             3747\n",
       "76    97             3747\n",
       "77    98             4450\n",
       "78    99             4965\n",
       "79   100             7161\n",
       "\n",
       "[80 rows x 2 columns]"
      ]
     },
     "execution_count": 210,
     "metadata": {},
     "output_type": "execute_result"
    }
   ],
   "source": [
    "\n",
    "FMT = '%Y-%m-%d'\n",
    "date = df['date']\n",
    "df['date'] = date.map(lambda x : (datetime.strptime(x, FMT) - datetime.strptime(\"2020-01-01\", FMT)).days)\n",
    "confirmed = list(df.iloc[:, 1])\n",
    "ndias=list(df['date'])\n",
    "df"
   ]
  },
  {
   "cell_type": "code",
   "execution_count": 211,
   "metadata": {},
   "outputs": [],
   "source": [
    "def exponencial(x, c0, c1, c2, c3):\n",
    "    return c0 * np.exp(-c1 * x) + c2 + c3\n",
    "g = [100, 0.01, 200, 0.01]\n",
    "n = len(ndias)\n",
    "y = np.empty(n)\n",
    "predi = n\n"
   ]
  },
  {
   "cell_type": "code",
   "execution_count": 212,
   "metadata": {},
   "outputs": [
    {
     "data": {
      "text/plain": [
       "[<matplotlib.lines.Line2D at 0x19c54f2ee88>]"
      ]
     },
     "execution_count": 212,
     "metadata": {},
     "output_type": "execute_result"
    },
    {
     "data": {
      "image/png": "[encoded data removed]",
      "text/plain": [
       "<Figure size 432x288 with 1 Axes>"
      ]
     },
     "metadata": {
      "needs_background": "light"
     },
     "output_type": "display_data"
    }
   ],
   "source": [
    "for i in range(n):\n",
    "    y[i] = exponencial(ndias[i], g[0], g[1], g[2], g[3])\n",
    "    popt, pcovid = curve_fit(reg_exponencial, ndias, confirmed, g)\n",
    "for i in range(predi):\n",
    "    y[i] = exponencial(ndias[i], popt[0], popt[1], popt[2], popt[3])\n",
    "plt.ylim(0,150)\n",
    "plt.ylim(0,9000)\n",
    "plt.plot(ndias, confirmed)\n",
    "plt.xlabel(\"Numero de dias a partir del 22 de enero \")\n",
    "plt.ylabel(\"Personas infectadas \")\n",
    "plt.plot(ndias, y, 'r')\n"
   ]
  },
  {
   "cell_type": "markdown",
   "metadata": {},
   "source": [
    "## Modelo polinomial"
   ]
  },
  {
   "cell_type": "markdown",
   "metadata": {},
   "source": [
    "\n",
    "Modelo polinomial\n",
    "Predicción de una variable de respuesta cuantitativa a partir de una variable predictora cuantitativa, donde la relación se modela como una función polinomial de orden n (esto significa que pueden tener de diferentes exponenciales o grados y se debe ir probando)\n",
    "\n",
    "Se puede tener una ecuacion con diferentes grados\n",
    "\n",
    "y = a0 + a1x + a2x^2 + a3x^3 + … + anx^n + ε"
   ]
  },
  {
   "cell_type": "code",
   "execution_count": 230,
   "metadata": {},
   "outputs": [
    {
     "data": {
      "text/plain": [
       "[<matplotlib.lines.Line2D at 0x19c566fe548>]"
      ]
     },
     "execution_count": 230,
     "metadata": {},
     "output_type": "execute_result"
    },
    {
     "data": {
      "image/png": "[encoded data removed]",
      "text/plain": [
       "<Figure size 432x288 with 1 Axes>"
      ]
     },
     "metadata": {
      "needs_background": "light"
     },
     "output_type": "display_data"
    }
   ],
   "source": [
    "ndias=list(df['date'])\n",
    "x = np.array(ndias).reshape(-1, 1)\n",
    "y = np.array(confirmed).reshape(-1, 1)\n",
    "plt.xlabel(\"Numero de dias a partir del 22 de enero \")\n",
    "plt.ylabel(\"Personas infectadas \")\n",
    "plt.plot(x, y, 'r-')\n"
   ]
  },
  {
   "cell_type": "markdown",
   "metadata": {},
   "source": [
    "## Conclusiones"
   ]
  },
  {
   "cell_type": "markdown",
   "metadata": {},
   "source": [
    "Gracias a los modelos matematicos exponencial y polinomial se puede se pueden realizar predicciones en cuanto a la enfermedad de alto contagio por la que esta pasando el Ecuador, los modelos muestran las tasas de crecimiento del avance de esta enfermedad.\n",
    "Podemos decir que el modelo exponencial da una mejor referencia con respecto a la tasa de contagiados ya que presenta una curva que crece de acuerdo a sus estadisticas, el modelo polinomial tambien es importante, pero este nos da prediccion certera de acuerdo a sus puntos."
   ]
  },
  {
   "cell_type": "markdown",
   "metadata": {},
   "source": [
    "## Criterio Personal"
   ]
  },
  {
   "cell_type": "markdown",
   "metadata": {},
   "source": [
    "A poco más de dos meses del primer caso confirmado de COVID-19 en el Ecuador, se registran 297 víctimas mortales y 7161 casos de contagio, 68% de los cuales son residentes en el Guayas, epicentro del virus en el país.\n",
    "Las cifras parecen haber crecido disparatadamente en los últimos días, ¿El decreto de cuarentena a nivel nacional no está dando resultados? o ¿Es acaso un intento desesperado del estado por encajar números reales entre los registros “oficiales”?\n",
    "Desde mediados de marzo el gobierno implementó un paquete de medidas a su pueblo con la intención de frenar la propagación del virus; desde la limitación de reuniones sociales, la suspensión de la asistencia a centros educativos y de recreación, que pronto evolucionaría  hasta la restricción vehicular y toque de queda a nivel nacional. \n",
    "Sin haber conseguido los resultados esperados, al día de hoy, el gobierno ecuatoriano toma medidas desesperadas para tratar de hacer frente a esta emergencia sanitaria; ajuste legal para retraso en pago de arriendos y de seguros de salud; La creación de una cuenta nacional de asistencia humanitaria que se financiará con el aporte de empresas grandes y de ciudadanos que ganen más de 500 dólares mensuales, quienes otorgarán el 5% de sus utilidades; estas medidas, como era de esperarse, resultaron en el descontento de la ciudadanía.\n",
    "El reclamo de los ecuatorianos hacia el primer mandatario Lenín Moreno y la ministra de gobierno María Paula Romo, llegan a medios internacionales con imágenes de centros de salud repletos, tanto como de cuerpos sin vida en las calles de Guayaquil, víctimas letales de la ineficacia del sistema de salud público gubernamental. El gobierno de turno continúa responsabilizando al pasado régimen político de Rafael Correa Delgado de de la situación de crisis económica en el país y en palabras del Presidente de la república “La emergencia podría convertirse en una tragedia social por la falta de empleo, ingresos y alimentos.”"
   ]
  },
  {
   "cell_type": "code",
   "execution_count": null,
   "metadata": {},
   "outputs": [],
   "source": []
  }
 ],
 "metadata": {
  "kernelspec": {
   "display_name": "Python 3",
   "language": "python",
   "name": "python3"
  },
  "language_info": {
   "codemirror_mode": {
    "name": "ipython",
    "version": 3
   },
   "file_extension": ".py",
   "mimetype": "text/x-python",
   "name": "python",
   "nbconvert_exporter": "python",
   "pygments_lexer": "ipython3",
   "version": "3.7.4"
  }
 },
 "nbformat": 4,
 "nbformat_minor": 2
}
