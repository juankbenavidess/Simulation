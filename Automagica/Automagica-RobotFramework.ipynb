{
 "cells": [
  {
   "cell_type": "markdown",
   "metadata": {},
   "source": [
    "# Ejemplo Automagica con RobotFramework\n",
    "\n",
    "Robot Framework es un marco genérico de automatización de código abierto. Se puede utilizar para la automatización de pruebas y la automatización de procesos robóticos (RPA).\n",
    "\n",
    "Robot Framework cuenta con soporte activo, y muchas empresas líderes en la industria lo utilizan en su desarrollo de software.\n",
    "\n",
    "Robot Framework es abierto y extensible y se puede integrar con Automagica.\n",
    "\n",
    "Automagica es una plataforma de código abierto Smart Robotic Process Automation (SRPA) que permite automatizar procesos multiplataforma."
   ]
  },
  {
   "cell_type": "code",
   "execution_count": 7,
   "metadata": {},
   "outputs": [],
   "source": [
    "# This imports all building blocks from Automagica so you can use them!\n",
    "from automagica import *"
   ]
  },
  {
   "cell_type": "markdown",
   "metadata": {},
   "source": [
    "El script permite abrir un navegador, en este caso Chrome y buscar un texto."
   ]
  },
  {
   "cell_type": "code",
   "execution_count": 8,
   "metadata": {},
   "outputs": [
    {
     "name": "stdout",
     "output_type": "stream",
     "text": [
      "Completed Robot Framework test case \"C:\\Test Cases\\testcase.robot\"\n"
     ]
    }
   ],
   "source": [
    "# Run an Robot Framework test case\n",
    "execute_robotframework_test(r\"C:\\Test Cases\\testcase.robot\") # Point this to your Robot Framework test case\n"
   ]
  },
  {
   "cell_type": "markdown",
   "metadata": {},
   "source": [
    "Como se puede ver ejecuto el test, los registros del mismo se generan en la carpeta del proyecto, indicando si tuvo errores o se ejecuto correctamente.\n",
    "\n",
    "### Conclusiones\n",
    "\n",
    "El RobotFramework es eficiente al momento de realizar pruebas de RPA, devuelve si las pruebas o analisis estan bien, sirve para comprobar si se esta realizando correctamente un proceso.\n",
    "Con la ayuda de automagica se pudo implementar RobotFramework y poder ejecutar desde su script.\n",
    "\n",
    "### Bibliografia\n",
    "https://robotframework.org/#examples\n",
    "\n",
    "\n",
    "https://automagica.readthedocs.io/activities.html#robot-framework\n",
    "\n",
    "\n",
    "https://github.com/automagica/automagica"
   ]
  }
 ],
 "metadata": {
  "kernelspec": {
   "display_name": "Python 3",
   "language": "python",
   "name": "python3"
  },
  "language_info": {
   "codemirror_mode": {
    "name": "ipython",
    "version": 3
   },
   "file_extension": ".py",
   "mimetype": "text/x-python",
   "name": "python",
   "nbconvert_exporter": "python",
   "pygments_lexer": "ipython3",
   "version": "3.7.0"
  }
 },
 "nbformat": 4,
 "nbformat_minor": 2
}
