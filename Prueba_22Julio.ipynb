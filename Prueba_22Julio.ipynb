{
 "cells": [
  {
   "cell_type": "markdown",
   "metadata": {},
   "source": [
    "## Prueba Simulacion\n",
    "Juan Carlos Benavides C.          22/07/2020"
   ]
  },
  {
   "cell_type": "markdown",
   "metadata": {},
   "source": [
    "Se buscar encontrar la eficiencia de la generación de números pseudo-aletorios a través de los métodos de cuadrados medios y congruencia lineal, para ello se debe seguir el siguiente proceso:\n",
    "\n",
    "1. A traves de la misma api generar una semilla diferente. \n",
    "\n",
    "2. Encontrar el numero de iteraciones hasta que se repita uno de sus datos.\n",
    "\n",
    "3. Generar 100 simulaciones con diferentes semillas.\n",
    "\n",
    "4. Generar un histograma con el resultado obtenidos por cada método.\n",
    "\n",
    "5. Agregar sus conclusiones, opiniones y recomendaciones\n",
    "\n",
    "Se debe generar un cuaderno de python para la simulación y subir dentro de este apartado.Se buscar encontrar la eficiencia de la generación de números pseudo-aletorios a través de los métodos de cuadrados medios y congruencia lineal, para ello se debe seguir el siguiente proceso:"
   ]
  },
  {
   "cell_type": "code",
   "execution_count": 2,
   "metadata": {},
   "outputs": [
    {
     "name": "stdout",
     "output_type": "stream",
     "text": [
      "Escriba la semilla :\n",
      "8998\n",
      "Escriba la cantidad de digitos :\n",
      "4\n",
      "    Valores\n",
      "0        89\n",
      "1        45\n",
      "2        22\n",
      "3        83\n",
      "4       100\n",
      "..      ...\n",
      "95        5\n",
      "96        3\n",
      "97        2\n",
      "98        6\n",
      "99        5\n",
      "\n",
      "[100 rows x 1 columns]\n",
      "cantidad de repetidos 8\n"
     ]
    },
    {
     "data": {
      "image/png": "[encoded data removed]",
      "text/plain": [
       "<Figure size 432x288 with 1 Axes>"
      ]
     },
     "metadata": {
      "needs_background": "light"
     },
     "output_type": "display_data"
    }
   ],
   "source": [
    "from tabulate import tabulate\n",
    "from pandas import DataFrame\n",
    "import matplotlib.pyplot as pp\n",
    "\n",
    "print(\"Escriba la semilla :\")\n",
    "Semilla=int(input())\n",
    "print(\"Escriba la cantidad de digitos :\")\n",
    "Digitos=int(input())\n",
    "\n",
    "\n",
    "nu=\"1\"\n",
    "iteraciones=[]\n",
    "\n",
    "##Genera ceros\n",
    "for i in range(0,Digitos):\n",
    "    nu=nu+\"0\"\n",
    "for j in range(0,100):\n",
    "    i=1\n",
    "    nui=[]\n",
    "    val= True\n",
    "    while val:\n",
    "        semilla3=Semilla\n",
    "        Semilla2=semilla3*semilla3\n",
    "        palabra=str(Semilla2)\n",
    "        longitud=len(palabra)\n",
    "        para1=(int((longitud/2))-int((Digitos/2)))\n",
    "        para2=(int((longitud/2))+int((Digitos/2)))\n",
    "        Res=palabra[int(para1):int(para2)]\n",
    "        aleatorio=float(Res)/float(nu)\n",
    "        Semilla=int(Res)\n",
    "        if (i==1):\n",
    "            nui.append(Res)\n",
    "            i=i+1\n",
    "        else:\n",
    "            for x in range(0,len(nui)):\n",
    "                if (nui[x]==Res):\n",
    "                    iteraciones.append(i)\n",
    "                    Semilla=int(nui[0])+200\n",
    "                    val=False\n",
    "            nui.append(Res)\n",
    "            i=i+1\n",
    "\n",
    "            \n",
    "dict_listas = {'Valores' : iteraciones,}\n",
    "dataframe=DataFrame(dict_listas)\n",
    "print(dataframe)\n",
    "\n",
    "aux=[]              \n",
    "repetido = []\n",
    "unico = []\n",
    "valores = iteraciones\n",
    "cont=[]\n",
    "\n",
    "def contarRep(lista,valor):   \n",
    "    aux=0\n",
    "    for i in valor:\n",
    "        for j in lista:\n",
    "            if i == j:\n",
    "                aux=aux+1 \n",
    "        cont.append(aux)\n",
    "        aux=0\n",
    "    return cont\n",
    "\n",
    "for x in iteraciones:\n",
    "    del aux[:]\n",
    "    if x not in unico:\n",
    "        unico.append(x)\n",
    "    else:\n",
    "        if x not in repetido:\n",
    "            repetido.append(x)\n",
    "\n",
    "            \n",
    "fra=contarRep(iteraciones,repetido)\n",
    "print(\"cantidad de repetidos\",len(repetido))\n",
    "pp.bar(range(len(repetido)), cont, edgecolor='white')\n",
    "pp.xticks(range(len(repetido)), repetido, rotation=100)\n",
    "pp.title(\"Cuadrados medios\")\n",
    "pp.ylim(min(cont)-1, max(cont))\n",
    "pp.show()       "
   ]
  },
  {
   "cell_type": "code",
   "execution_count": 3,
   "metadata": {},
   "outputs": [
    {
     "name": "stdout",
     "output_type": "stream",
     "text": [
      "[89, 45, 22, 83, 100, 44, 6, 27, 11, 8, 33, 7, 102, 47, 9, 28, 24, 12, 24, 42, 90, 93, 92, 63, 21, 8, 9, 50, 24, 36, 52, 82, 38, 30, 6, 5, 5, 4, 6, 5, 3, 2, 6, 5, 5, 4, 6, 5, 3, 2, 6, 5, 5, 4, 6, 5, 3, 2, 6, 5, 5, 4, 6, 5, 3, 2, 6, 5, 5, 4, 6, 5, 3, 2, 6, 5, 5, 4, 6, 5, 3, 2, 6, 5, 5, 4, 6, 5, 3, 2, 6, 5, 5, 4, 6, 5, 3, 2, 6, 5]\n"
     ]
    }
   ],
   "source": [
    "print(iteraciones)"
   ]
  },
  {
   "cell_type": "code",
   "execution_count": 18,
   "metadata": {},
   "outputs": [
    {
     "name": "stdout",
     "output_type": "stream",
     "text": [
      "Escriba la semilla :\n",
      "90000\n",
      "    Valores\n",
      "0         4\n",
      "1         3\n",
      "2         5\n",
      "3         4\n",
      "4         7\n",
      "..      ...\n",
      "95        7\n",
      "96       10\n",
      "97       21\n",
      "98      101\n",
      "99       25\n",
      "\n",
      "[100 rows x 1 columns]\n",
      "cantidad de repetidos 21\n"
     ]
    },
    {
     "data": {
      "image/png": "[encoded data removed]",
      "text/plain": [
       "<Figure size 432x288 with 1 Axes>"
      ]
     },
     "metadata": {
      "needs_background": "light"
     },
     "output_type": "display_data"
    }
   ],
   "source": [
    "print(\"Escriba la semilla :\")\n",
    "Semilla=int(input())\n",
    "\n",
    "a=1\n",
    "b=2\n",
    "m=3\n",
    "iteraciones=[]\n",
    "for j in range(0,100):\n",
    "    i=1\n",
    "    ui1=[]\n",
    "    xn=0\n",
    "    ui=0.0\n",
    "    aux=0\n",
    "    val= True\n",
    "    xn=Semilla\n",
    "    while val:\n",
    "        aux=((a*xn)+b)%(m)\n",
    "        ui=aux/m\n",
    "        xn=aux\n",
    "        if (i==1):\n",
    "            ui1.append(ui)\n",
    "            i=i+1\n",
    "        else:\n",
    "            for x in range(0,len(ui1)):\n",
    "                if (ui1[x]==ui):\n",
    "                    iteraciones.append(i)\n",
    "                    Semilla=int(xn)\n",
    "                    a=a+1\n",
    "                    b=b+3\n",
    "                    m=m+1\n",
    "                    val=False\n",
    "            ui1.append(ui)\n",
    "            i=i+1\n",
    "\n",
    "                        \n",
    "dict_listas = {'Valores' : iteraciones,}\n",
    "dataframe=DataFrame(dict_listas)\n",
    "print(dataframe)\n",
    "\n",
    "aux=[]              \n",
    "repetido = []\n",
    "unico = []\n",
    "cont=[]\n",
    "\n",
    "def contarRep(lista,valor):   \n",
    "    aux=0\n",
    "    for i in valor:\n",
    "        for j in lista:\n",
    "            if i == j:\n",
    "                aux=aux+1 \n",
    "        cont.append(aux)\n",
    "        aux=0\n",
    "    return cont\n",
    "\n",
    "for x in iteraciones:\n",
    "    del aux[:]\n",
    "    if x not in unico:\n",
    "        unico.append(x)\n",
    "    else:\n",
    "        if x not in repetido:\n",
    "            repetido.append(x)\n",
    "\n",
    "            \n",
    "fra=contarRep(iteraciones,repetido)\n",
    "print(\"cantidad de repetidos\",len(repetido))\n",
    "pp.bar(range(len(repetido)), cont, edgecolor='white')\n",
    "pp.xticks(range(len(repetido)), repetido, rotation=100)\n",
    "pp.title(\"Congruencia lineal\")\n",
    "pp.ylim(min(cont)-1, max(cont))\n",
    "pp.show()       "
   ]
  },
  {
   "cell_type": "code",
   "execution_count": 19,
   "metadata": {},
   "outputs": [
    {
     "name": "stdout",
     "output_type": "stream",
     "text": [
      "[4, 3, 5, 4, 7, 3, 10, 5, 6, 4, 13, 7, 4, 5, 9, 10, 10, 3, 7, 6, 23, 5, 21, 13, 28, 7, 29, 13, 11, 5, 16, 9, 13, 10, 37, 10, 13, 6, 21, 4, 8, 6, 37, 23, 47, 6, 43, 21, 25, 13, 53, 28, 21, 8, 10, 29, 30, 13, 61, 11, 19, 6, 13, 16, 34, 10, 67, 13, 71, 11, 19, 37, 61, 10, 31, 13, 79, 4, 82, 21, 42, 7, 9, 8, 85, 8, 23, 37, 13, 23, 31, 47, 37, 7, 49, 7, 10, 21, 101, 25]\n"
     ]
    }
   ],
   "source": [
    "print(iteraciones)"
   ]
  },
  {
   "cell_type": "markdown",
   "metadata": {},
   "source": [
    "### Conclusiones\n",
    "Los números pseudoaleatorios son una parte importante en la elaboración de modelos de simulación. Los números generados pueden repetirse cíclicamente después de una secuencia corta.  \n",
    "\n",
    "### Recomendacion\n",
    "La utilización de números primos puede generar ciclos más largos en la generación de números pseudoaleatorios"
   ]
  },
  {
   "cell_type": "code",
   "execution_count": null,
   "metadata": {},
   "outputs": [],
   "source": []
  }
 ],
 "metadata": {
  "kernelspec": {
   "display_name": "Python 3",
   "language": "python",
   "name": "python3"
  }
 },
 "nbformat": 4,
 "nbformat_minor": 4
}
